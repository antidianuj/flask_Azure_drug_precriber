{
  "nbformat": 4,
  "nbformat_minor": 0,
  "metadata": {
    "colab": {
      "name": "drug_classifier_model_generation.ipynb",
      "provenance": []
    },
    "kernelspec": {
      "name": "python3",
      "display_name": "Python 3"
    },
    "language_info": {
      "name": "python"
    }
  },
  "cells": [
    {
      "cell_type": "markdown",
      "source": [
        "Training of a new model"
      ],
      "metadata": {
        "id": "-EjmqOrMI-1o"
      }
    },
    {
      "cell_type": "code",
      "source": [
        "import pandas as pd\n",
        "from sklearn.tree import DecisionTreeClassifier\n",
        "from sklearn.preprocessing import LabelEncoder\n",
        "from sklearn.model_selection import KFold, cross_val_score\n",
        "\n",
        "df_drug = pd.read_csv(\"drug200.csv\")\n",
        "\n",
        "label_encoder = LabelEncoder()\n",
        "\n",
        "categorical_features = [feature for feature in df_drug.columns if df_drug[feature].dtypes == 'O']\n",
        "for feature in categorical_features:\n",
        "    df_drug[feature]=label_encoder.fit_transform(df_drug[feature])\n",
        "    \n",
        "X = df_drug.drop(\"Drug\", axis=1)\n",
        "y = df_drug[\"Drug\"]\n",
        "\n",
        "model = DecisionTreeClassifier(criterion=\"entropy\")\n",
        "model.fit(X, y)\n",
        "\n",
        "kfold = KFold(random_state=42, shuffle=True)\n",
        "cv_results = cross_val_score(model, X, y, cv=kfold, scoring=\"accuracy\")\n",
        "print(\"Accuracy\")\n",
        "print(cv_results.mean())"
      ],
      "metadata": {
        "colab": {
          "base_uri": "https://localhost:8080/"
        },
        "id": "rkBA0jZHI3i0",
        "outputId": "17331223-ca17-4cc0-c6aa-5df83c407759"
      },
      "execution_count": 4,
      "outputs": [
        {
          "output_type": "stream",
          "name": "stdout",
          "text": [
            "Accuracy\n",
            "0.99\n"
          ]
        }
      ]
    },
    {
      "cell_type": "markdown",
      "source": [
        "Saving Trained Model"
      ],
      "metadata": {
        "id": "98sCIOjpI7fI"
      }
    },
    {
      "cell_type": "code",
      "source": [
        "import pickle\n",
        "\n",
        "pickle_file = open('model.pkl', 'ab')\n",
        "pickle.dump(model, pickle_file)                     \n",
        "pickle_file.close()"
      ],
      "metadata": {
        "id": "RjZyEDhDGhge"
      },
      "execution_count": 2,
      "outputs": []
    },
    {
      "cell_type": "markdown",
      "source": [
        "Determine encoded values of features"
      ],
      "metadata": {
        "id": "kJVCrgqlIzhN"
      }
    },
    {
      "cell_type": "code",
      "source": [
        "df_drug = pd.read_csv(\"drug200.csv\")\n",
        "\n",
        "label_encoder = LabelEncoder()\n",
        "\n",
        "categorical_features = [feature for feature in df_drug.columns if df_drug[feature].dtypes == 'O']\n",
        "for feature in categorical_features:\n",
        "    print(feature, list(df_drug[feature].unique()), list(label_encoder.fit_transform(df_drug[feature].unique())), \"\\n\")"
      ],
      "metadata": {
        "colab": {
          "base_uri": "https://localhost:8080/"
        },
        "id": "v33D88QKKlVe",
        "outputId": "44e7795b-7fb0-400e-d689-7e61d79112e9"
      },
      "execution_count": 5,
      "outputs": [
        {
          "output_type": "stream",
          "name": "stdout",
          "text": [
            "Sex ['F', 'M'] [0, 1] \n",
            "\n",
            "BP ['HIGH', 'LOW', 'NORMAL'] [0, 1, 2] \n",
            "\n",
            "Cholesterol ['HIGH', 'NORMAL'] [0, 1] \n",
            "\n",
            "Drug ['DrugY', 'drugC', 'drugX', 'drugA', 'drugB'] [0, 3, 4, 1, 2] \n",
            "\n"
          ]
        }
      ]
    },
    {
      "cell_type": "markdown",
      "source": [
        "Representation of Model as function mapping consumer's inputs to output"
      ],
      "metadata": {
        "id": "LFdl_p1BLDRb"
      }
    },
    {
      "cell_type": "code",
      "source": [
        "gender_map = {\"F\": 0, \"M\": 1}\n",
        "bp_map = {\"HIGH\": 0, \"LOW\": 1, \"NORMAL\": 2}\n",
        "cholestol_map = {\"HIGH\": 0, \"NORMAL\": 1}\n",
        "drug_map = {0: \"DrugY\", 3: \"drugC\", 4: \"drugX\", 1: \"drugA\", 2: \"drugB\"}\n",
        "\n",
        "def predict_drug(Age, \n",
        "                 Sex, \n",
        "                 BP, \n",
        "                 Cholesterol, \n",
        "                 Na_to_K):\n",
        "\n",
        "    # 1. Read the machine learning model from its saved state ...\n",
        "    pickle_file = open('model.pkl', 'rb')     \n",
        "    model = pickle.load(pickle_file)\n",
        "    \n",
        "    # 2. Transform the \"raw data\" passed into the function to the encoded / numerical values using the maps / dictionaries\n",
        "    Sex = gender_map[Sex]\n",
        "    BP = bp_map[BP]\n",
        "    Cholesterol = cholestol_map[Cholesterol]\n",
        "\n",
        "    # 3. Make an individual prediction for this set of data\n",
        "    y_predict = model.predict([[Age, Sex, BP, Cholesterol, Na_to_K]])[0]\n",
        "\n",
        "    # 4. Return the \"raw\" version of the prediction i.e. the actual name of the drug rather than the numerical encoded version\n",
        "    return drug_map[y_predict] \n",
        "\n",
        "    \n",
        "print(\"----------------------------------\")\n",
        "print(\"----------------------------------\")\n",
        "\n",
        "# Testing of that model function\n",
        "predict_drug(47, \"F\", \"LOW\",  \"HIGH\", 14)\n"
      ],
      "metadata": {
        "colab": {
          "base_uri": "https://localhost:8080/",
          "height": 128
        },
        "id": "XNpE41vwLJGH",
        "outputId": "3fde05ba-c5e4-4e9a-a508-bb96594244dd"
      },
      "execution_count": 8,
      "outputs": [
        {
          "output_type": "stream",
          "name": "stdout",
          "text": [
            "----------------------------------\n",
            "----------------------------------\n"
          ]
        },
        {
          "output_type": "stream",
          "name": "stderr",
          "text": [
            "/usr/local/lib/python3.7/dist-packages/sklearn/base.py:446: UserWarning: X does not have valid feature names, but DecisionTreeClassifier was fitted with feature names\n",
            "  \"X does not have valid feature names, but\"\n"
          ]
        },
        {
          "output_type": "execute_result",
          "data": {
            "application/vnd.google.colaboratory.intrinsic+json": {
              "type": "string"
            },
            "text/plain": [
              "'drugC'"
            ]
          },
          "metadata": {},
          "execution_count": 8
        }
      ]
    }
  ]
}